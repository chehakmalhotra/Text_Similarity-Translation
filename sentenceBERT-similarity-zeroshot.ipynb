{
 "cells": [
  {
   "cell_type": "code",
   "execution_count": 19,
   "metadata": {},
   "outputs": [
    {
     "name": "stdout",
     "output_type": "stream",
     "text": [
      "Pearson Correlation: 0.8491\n"
     ]
    }
   ],
   "source": [
    "from sentence_transformers import SentenceTransformer, util\n",
    "from scipy.stats import pearsonr\n",
    "import pandas as pd\n",
    "import numpy as np\n",
    "\n",
    "dev_df = pd.read_csv('dev.csv', sep='\\t')\n",
    "\n",
    "model = SentenceTransformer('sentence-transformers/paraphrase-xlm-r-multilingual-v1')\n",
    "\n",
    "def encode_sentences(dataset, model):\n",
    "    embeddings = []\n",
    "    for index, row in dataset.iterrows():\n",
    "        sentence1 = row['sentence1']\n",
    "        sentence2 = row['sentence2']\n",
    "        sentence_pair = [sentence1, sentence2]\n",
    "        embeddings.append(model.encode(sentence_pair))\n",
    "    return embeddings\n",
    "\n",
    "validation_embeddings = encode_sentences(dev_df, model)\n",
    "\n",
    "similarities = []\n",
    "for embed_pair in validation_embeddings:\n",
    "    similarity = util.pytorch_cos_sim(embed_pair[0].reshape(1, -1), embed_pair[1].reshape(1, -1))\n",
    "    similarities.append(similarity[0][0])\n",
    "\n",
    "similarity_scores = similarities\n",
    "actual_scores = list(dev_df['score'] / 5.0)\n",
    "pearson_corr, _ = pearsonr(similarity_scores, actual_scores)\n",
    "\n",
    "print(f'Pearson Correlation: {pearson_corr:.4f}')\n"
   ]
  }
 ],
 "metadata": {
  "kernelspec": {
   "display_name": "Python 3",
   "language": "python",
   "name": "python3"
  },
  "language_info": {
   "codemirror_mode": {
    "name": "ipython",
    "version": 3
   },
   "file_extension": ".py",
   "mimetype": "text/x-python",
   "name": "python",
   "nbconvert_exporter": "python",
   "pygments_lexer": "ipython3",
   "version": "3.10.0"
  }
 },
 "nbformat": 4,
 "nbformat_minor": 2
}
